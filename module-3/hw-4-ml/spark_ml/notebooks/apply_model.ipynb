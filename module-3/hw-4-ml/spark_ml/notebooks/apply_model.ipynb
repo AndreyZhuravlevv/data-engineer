{
 "cells": [
  {
   "cell_type": "code",
   "execution_count": 14,
   "metadata": {},
   "outputs": [
    {
     "data": {
      "text/plain": [
       "import org.apache.spark.sql.types.{StructType, StringType}\n",
       "import org.apache.spark.ml.{Pipeline, PipelineModel}\n",
       "import org.apache.spark.sql.functions.udf\n",
       "import org.apache.spark.sql.DataFrame\n",
       "import spark.implicits._\n"
      ]
     },
     "execution_count": 14,
     "metadata": {},
     "output_type": "execute_result"
    }
   ],
   "source": [
    "import org.apache.spark.sql.types.{StructType, StringType}\n",
    "import org.apache.spark.ml.{Pipeline, PipelineModel}\n",
    "import org.apache.spark.sql.functions.{udf}\n",
    "import org.apache.spark.sql.DataFrame\n",
    "import spark.implicits._"
   ]
  },
  {
   "cell_type": "code",
   "execution_count": 2,
   "metadata": {},
   "outputs": [
    {
     "name": "stdout",
     "output_type": "stream",
     "text": [
      "Current spark version is 3.0.0\n"
     ]
    }
   ],
   "source": [
    "println(s\"Current spark version is ${spark.version}\")"
   ]
  },
  {
   "cell_type": "code",
   "execution_count": 3,
   "metadata": {},
   "outputs": [
    {
     "data": {
      "text/plain": [
       "inputStreamPath: String = /home/jovyan/data/events-stream\n",
       "modelPath: String = /home/jovyan/models/spark-ml-model\n",
       "dataSchema: org.apache.spark.sql.types.StructType = StructType(StructField(tweet,StringType,true))\n",
       "inputDF: org.apache.spark.sql.DataFrame = [tweet: string]\n"
      ]
     },
     "execution_count": 3,
     "metadata": {},
     "output_type": "execute_result"
    }
   ],
   "source": [
    "val inputStreamPath = \"/home/jovyan/data/events-stream\"\n",
    "val modelPath = \"/home/jovyan/models/spark-ml-model\"\n",
    "\n",
    "val dataSchema = new StructType()\n",
    "    .add(\"tweet\", StringType)\n",
    "\n",
    "val inputDF = spark\n",
    "    .readStream\n",
    "    .schema(dataSchema)\n",
    "    .option(\"maxFilesPerTrigger\", 1)\n",
    "    .json(inputStreamPath)"
   ]
  },
  {
   "cell_type": "code",
   "execution_count": 4,
   "metadata": {},
   "outputs": [
    {
     "data": {
      "text/plain": [
       "model: org.apache.spark.ml.PipelineModel = pipeline_bad5478c033e\n",
       "predictionsDF: org.apache.spark.sql.DataFrame = [tweet: string, words: array<string> ... 4 more fields]\n"
      ]
     },
     "execution_count": 4,
     "metadata": {},
     "output_type": "execute_result"
    }
   ],
   "source": [
    "val model = PipelineModel.load(modelPath)\n",
    "val predictionsDF = model.transform(inputDF)"
   ]
  },
  {
   "cell_type": "code",
   "execution_count": 13,
   "metadata": {},
   "outputs": [
    {
     "data": {
      "text/plain": [
       "res5: org.apache.spark.sql.streaming.StreamingQuery = org.apache.spark.sql.execution.streaming.StreamingQueryWrapper@a3bf791\n"
      ]
     },
     "execution_count": 13,
     "metadata": {},
     "output_type": "execute_result"
    },
    {
     "name": "stdout",
     "output_type": "stream",
     "text": [
      "+------------------------------------------------------------------------------------------------------------------------------------------+-------------------------------------------------------------------------------------------------------------------------------------------------------------------+----------------------------------------------------------------------------------------------------------------------------------------------------------------------------------------+---------------------------------------+----------------------------------------+----------+\n",
      "|tweet                                                                                                                                     |words                                                                                                                                                              |features                                                                                                                                                                                |rawPrediction                          |probability                             |prediction|\n",
      "+------------------------------------------------------------------------------------------------------------------------------------------+-------------------------------------------------------------------------------------------------------------------------------------------------------------------+----------------------------------------------------------------------------------------------------------------------------------------------------------------------------------------+---------------------------------------+----------------------------------------+----------+\n",
      "|@AZAAVFC4LIFE thanks, so do I, so far no luck                                                                                             |[@azaavfc4life, thanks,, so, do, i,, so, far, no, luck]                                                                                                            |(1000,[158,226,233,403,450,617,704,721],[1.0,1.0,1.0,2.0,1.0,1.0,1.0,1.0])                                                                                                              |[4.728676072213859,5.271323927786141]  |[0.4728676072213859,0.5271323927786141] |1.0       |\n",
      "|Rain is so freaking depressing!!! ughhh                                                                                                   |[rain, is, so, freaking, depressing!!!, ughhh]                                                                                                                     |(1000,[150,209,403,478,636,811],[1.0,1.0,1.0,1.0,1.0,1.0])                                                                                                                              |[5.120476312733666,4.879523687266334]  |[0.5120476312733666,0.48795236872663345]|0.0       |\n",
      "|On the way to southern Iowa - my iPhone doesn't work there  Good thing I actually like the place!                                         |[on, the, way, to, southern, iowa, -, my, iphone, doesn't, work, there, , good, thing, i, actually, like, the, place!]                                             |(1000,[17,49,152,168,326,330,372,391,447,488,527,568,714,736,743,756,845,857,972],[2.0,1.0,1.0,1.0,1.0,1.0,1.0,1.0,1.0,1.0,1.0,1.0,1.0,1.0,1.0,1.0,1.0,1.0,1.0])                        |[5.262293981639175,4.737706018360825]  |[0.5262293981639175,0.4737706018360825] |0.0       |\n",
      "|Ok I just heard Bebe and Cece using Autotune on their new gospel song..                                                                   |[ok, i, just, heard, bebe, and, cece, using, autotune, on, their, new, gospel, song..]                                                                             |(1000,[84,307,333,395,557,585,645,673,736,756,877,891,960,967],[1.0,1.0,1.0,1.0,1.0,1.0,1.0,1.0,1.0,1.0,1.0,1.0,1.0,1.0])                                                               |[5.0500775800270885,4.9499224199729115]|[0.5050077580027088,0.49499224199729114]|0.0       |\n",
      "|GudMorNin all!                                                                                                                            |[gudmornin, all!]                                                                                                                                                  |(1000,[551,964],[1.0,1.0])                                                                                                                                                              |[4.728676072213859,5.271323927786141]  |[0.4728676072213859,0.5271323927786141] |1.0       |\n",
      "|@youknowriad  Thanks, actually I like your blog posts                                                                                     |[@youknowriad, , thanks,, actually, i, like, your, blog, posts]                                                                                                    |(1000,[145,233,263,330,372,447,577,756,891],[1.0,1.0,1.0,1.0,1.0,1.0,1.0,1.0,1.0])                                                                                                      |[5.0500775800270885,4.9499224199729115]|[0.5050077580027088,0.49499224199729114]|0.0       |\n",
      "|@helloimmeg Tiger Balm on the temples works good for headaches.  Bit smelly but good lol.  I maybe too late for ya though                 |[@helloimmeg, tiger, balm, on, the, temples, works, good, for, headaches., , bit, smelly, but, good, lol., , i, maybe, too, late, for, ya, though]                 |(1000,[13,15,17,79,164,168,209,334,344,353,372,385,476,523,605,703,736,756,811,818,989],[1.0,1.0,1.0,1.0,1.0,2.0,1.0,1.0,2.0,1.0,2.0,1.0,1.0,1.0,1.0,1.0,1.0,1.0,1.0,1.0,1.0])          |[4.990909546507151,5.009090453492848]  |[0.49909095465071507,0.5009090453492848]|1.0       |\n",
      "|@katemccredie Yes, she's definitely a girl. The breeder had sexed her prior to sale. I'm sitting here not quite believing that she's mine |[@katemccredie, yes,, she's, definitely, a, girl., the, breeder, had, sexed, her, prior, to, sale., i'm, sitting, here, not, quite, believing, that, she's, mine]  |(1000,[17,56,112,135,144,166,206,255,262,299,324,370,403,405,412,429,467,488,569,599,760,834],[1.0,1.0,1.0,1.0,1.0,1.0,1.0,1.0,1.0,1.0,1.0,1.0,1.0,1.0,2.0,1.0,1.0,1.0,1.0,1.0,1.0,1.0])|[4.88872689445784,5.11127310554216]    |[0.48887268944578405,0.511127310554216] |1.0       |\n",
      "|@hungryworship Hope the Sweden trip goes well for u! Bless ya.                                                                            |[@hungryworship, hope, the, sweden, trip, goes, well, for, u!, bless, ya.]                                                                                         |(1000,[0,6,17,157,169,221,310,340,344,550,782],[1.0,1.0,1.0,1.0,1.0,1.0,1.0,1.0,1.0,1.0,1.0])                                                                                           |[4.728676072213859,5.271323927786141]  |[0.4728676072213859,0.5271323927786141] |1.0       |\n",
      "|@CodyMcLovin you have the Iphone right? Have you tried twitterfon? That's the one both JOE and I use LMAO and it was FREE but you decide  |[@codymclovin, you, have, the, iphone, right?, have, you, tried, twitterfon?, that's, the, one, both, joe, and, i, use, lmao, and, it, was, free, but, you, decide]|(1000,[17,73,126,133,150,293,299,326,338,477,529,566,605,683,686,756,815,863,891,933,972],[2.0,1.0,1.0,1.0,1.0,1.0,2.0,1.0,3.0,1.0,1.0,1.0,1.0,1.0,1.0,1.0,1.0,1.0,2.0,1.0,1.0])        |[5.59042788002372,4.409572119976279]   |[0.559042788002372,0.44095721199762794] |0.0       |\n",
      "+------------------------------------------------------------------------------------------------------------------------------------------+-------------------------------------------------------------------------------------------------------------------------------------------------------------------+----------------------------------------------------------------------------------------------------------------------------------------------------------------------------------------+---------------------------------------+----------------------------------------+----------+\n",
      "only showing top 10 rows\n",
      "\n"
     ]
    }
   ],
   "source": [
    "predictionsDF.writeStream.foreachBatch { (batchDF: DataFrame, batchId: Long) =>\n",
    "    batchDF.show(10, false)\n",
    "}.start()"
   ]
  },
  {
   "cell_type": "code",
   "execution_count": 18,
   "metadata": {
    "scrolled": true
   },
   "outputs": [
    {
     "data": {
      "text/plain": [
       "Probability_new: org.apache.spark.sql.expressions.UserDefinedFunction = SparkUserDefinedFunction($Lambda$4365/0x000000084169c040@7edbbf3,DoubleType,List(Some(class[value[0]: vector])),None,false,true)\n",
       "res9: org.apache.spark.sql.streaming.StreamingQuery = org.apache.spark.sql.execution.streaming.StreamingQueryWrapper@47d3c982\n"
      ]
     },
     "execution_count": 18,
     "metadata": {},
     "output_type": "execute_result"
    },
    {
     "name": "stdout",
     "output_type": "stream",
     "text": [
      "+--------------------+--------------------+--------------------+--------------------+--------------------+----------+-------------------+\n",
      "|               tweet|               words|            features|       rawPrediction|         probability|prediction|    probability_new|\n",
      "+--------------------+--------------------+--------------------+--------------------+--------------------+----------+-------------------+\n",
      "|@AZAAVFC4LIFE tha...|[@azaavfc4life, t...|(1000,[158,226,23...|[4.72867607221385...|[0.47286760722138...|       1.0| 0.5271323927786141|\n",
      "|Rain is so freaki...|[rain, is, so, fr...|(1000,[150,209,40...|[5.12047631273366...|[0.51204763127336...|       0.0|0.48795236872663345|\n",
      "|On the way to sou...|[on, the, way, to...|(1000,[17,49,152,...|[5.26229398163917...|[0.52622939816391...|       0.0| 0.4737706018360825|\n",
      "|Ok I just heard B...|[ok, i, just, hea...|(1000,[84,307,333...|[5.05007758002708...|[0.50500775800270...|       0.0|0.49499224199729114|\n",
      "|     GudMorNin all! |   [gudmornin, all!]|(1000,[551,964],[...|[4.72867607221385...|[0.47286760722138...|       1.0| 0.5271323927786141|\n",
      "|@youknowriad  Tha...|[@youknowriad, , ...|(1000,[145,233,26...|[5.05007758002708...|[0.50500775800270...|       0.0|0.49499224199729114|\n",
      "|@helloimmeg Tiger...|[@helloimmeg, tig...|(1000,[13,15,17,7...|[4.99090954650715...|[0.49909095465071...|       1.0| 0.5009090453492848|\n",
      "|@katemccredie Yes...|[@katemccredie, y...|(1000,[17,56,112,...|[4.88872689445784...|[0.48887268944578...|       1.0|  0.511127310554216|\n",
      "|@hungryworship Ho...|[@hungryworship, ...|(1000,[0,6,17,157...|[4.72867607221385...|[0.47286760722138...|       1.0| 0.5271323927786141|\n",
      "|@CodyMcLovin you ...|[@codymclovin, yo...|(1000,[17,73,126,...|[5.59042788002372...|[0.55904278800237...|       0.0|0.44095721199762794|\n",
      "|@cherrybun Or you...|[@cherrybun, or, ...|(1000,[148,307,33...|[4.77172155927441...|[0.47717215592744...|       1.0| 0.5228278440725583|\n",
      "|@DAEONE Helloooo ...|[@daeone, hellooo...|(1000,[154,195,33...|[4.72867607221385...|[0.47286760722138...|       1.0| 0.5271323927786141|\n",
      "|SELENA GOMEZ   I ...|[selena, gomez, ,...|(1000,[34,74,91,1...|[5.12444792461500...|[0.51244479246150...|       0.0|0.48755520753849957|\n",
      "|MTV movie awards ...|[mtv, movie, awar...|(1000,[17,52,120,...|[5.19874021249426...|[0.51987402124942...|       0.0| 0.4801259787505733|\n",
      "|Having a little S...|[having, a, littl...|(1000,[15,157,467...|[4.72867607221385...|[0.47286760722138...|       1.0| 0.5271323927786141|\n",
      "|@Nellie1983 I had...|[@nellie1983, i, ...|(1000,[2,226,454,...|[5.40398999534388...|[0.54039899953438...|       0.0|0.45960100046561125|\n",
      "|Just one amazing ...|[just, one, amazi...|(1000,[44,133,165...|[4.33038108709086...|[0.43303810870908...|       1.0| 0.5669618912909135|\n",
      "|I wonder if this ...|[i, wonder, if, t...|(1000,[17,41,92,1...|[5.58264716627555...|[0.55826471662755...|       0.0|0.44173528337244417|\n",
      "|Next Week is germ...|[next, week, is, ...|(1000,[122,128,16...|[4.72867607221385...|[0.47286760722138...|       1.0| 0.5271323927786141|\n",
      "+--------------------+--------------------+--------------------+--------------------+--------------------+----------+-------------------+\n",
      "\n"
     ]
    }
   ],
   "source": [
    "val Probability_new = udf((probability: org.apache.spark.ml.linalg.Vector) => probability(1))\n",
    "predictionsDF.writeStream.foreachBatch { (batchDF: DataFrame, batchId: Long) =>\n",
    "    batchDF\n",
    "        .withColumn(\"probability_new\", Probability_new($\"probability\"))\n",
    "        .show\n",
    "}.start()"
   ]
  },
  {
   "cell_type": "code",
   "execution_count": null,
   "metadata": {},
   "outputs": [],
   "source": []
  }
 ],
 "metadata": {
  "kernelspec": {
   "display_name": "spylon-kernel",
   "language": "scala",
   "name": "spylon-kernel"
  },
  "language_info": {
   "codemirror_mode": "text/x-scala",
   "file_extension": ".scala",
   "help_links": [
    {
     "text": "MetaKernel Magics",
     "url": "https://metakernel.readthedocs.io/en/latest/source/README.html"
    }
   ],
   "mimetype": "text/x-scala",
   "name": "scala",
   "pygments_lexer": "scala",
   "version": "0.4.1"
  }
 },
 "nbformat": 4,
 "nbformat_minor": 4
}
